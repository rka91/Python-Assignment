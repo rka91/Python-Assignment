{
 "cells": [
  {
   "cell_type": "markdown",
   "id": "fbdee4a3-f692-4502-afbf-740b00df1b29",
   "metadata": {},
   "source": [
    "Question 1: Write a Python program to print all the numbers from 1 to 10 using a for loop."
   ]
  },
  {
   "cell_type": "code",
   "execution_count": 1,
   "id": "cfdc38e6-6603-479c-8dd7-931e24cee7c9",
   "metadata": {},
   "outputs": [
    {
     "name": "stdout",
     "output_type": "stream",
     "text": [
      "1\n",
      "2\n",
      "3\n",
      "4\n",
      "5\n",
      "6\n",
      "7\n",
      "8\n",
      "9\n",
      "10\n"
     ]
    }
   ],
   "source": [
    "for i in range(1,11,1):\n",
    "    print(i)"
   ]
  },
  {
   "cell_type": "markdown",
   "id": "1378cc28-7942-4fd6-99eb-f0652138584a",
   "metadata": {},
   "source": [
    "Question 2: Write a Python program to find the sum of all numbers from 1 to 100 using a for loop."
   ]
  },
  {
   "cell_type": "code",
   "execution_count": 3,
   "id": "6f4c5cb3-fdb6-4d6d-919f-c9d85311813b",
   "metadata": {},
   "outputs": [
    {
     "name": "stdout",
     "output_type": "stream",
     "text": [
      "5050\n"
     ]
    }
   ],
   "source": [
    "sum = 0\n",
    "for number in range(1,101):\n",
    "    sum += number\n",
    "print(sum)"
   ]
  },
  {
   "cell_type": "markdown",
   "id": "33ed5633-47cc-4067-add1-fd1c4ea35439",
   "metadata": {},
   "source": [
    "Question 3: Write a Python program to print the multiplication table of a given number using a for loop."
   ]
  },
  {
   "cell_type": "code",
   "execution_count": 5,
   "id": "34514c31-0f00-4752-b2f0-555c067259fe",
   "metadata": {},
   "outputs": [
    {
     "name": "stdin",
     "output_type": "stream",
     "text": [
      "Enter number: 5\n"
     ]
    },
    {
     "name": "stdout",
     "output_type": "stream",
     "text": [
      "5 x 1 = 5\n",
      "5 x 2 = 10\n",
      "5 x 3 = 15\n",
      "5 x 4 = 20\n",
      "5 x 5 = 25\n",
      "5 x 6 = 30\n",
      "5 x 7 = 35\n",
      "5 x 8 = 40\n",
      "5 x 9 = 45\n",
      "5 x 10 = 50\n"
     ]
    }
   ],
   "source": [
    "number = int(input(\"Enter number:\"))\n",
    "for i in range(1,11,1):\n",
    "    print(f\"{number} x {i} =\", number * i)"
   ]
  },
  {
   "cell_type": "markdown",
   "id": "77cd78fe-fac2-4304-a8e5-775fc8afa0b3",
   "metadata": {},
   "source": [
    "Question 4: Write a Python program to count the number of even and odd numbers from a series of numbers using a for loop.\n",
    "Hint: Find even and odd from this list: [1, 2, 3, 4, 5, 6, 7, 8, 9, 10]"
   ]
  },
  {
   "cell_type": "code",
   "execution_count": 7,
   "id": "c7a7dfb9-a8fd-446f-b805-e209cca253aa",
   "metadata": {},
   "outputs": [
    {
     "name": "stdout",
     "output_type": "stream",
     "text": [
      "Number of even numbers: 5\n",
      "Number of odd numbers: 5\n"
     ]
    }
   ],
   "source": [
    "List = [1, 2, 3, 4, 5, 6, 7, 8, 9, 10]\n",
    "even_count = 0\n",
    "odd_count = 0\n",
    "for num in List:\n",
    "    if num % 2 == 0:\n",
    "        even_count += 1\n",
    "    else:\n",
    "        odd_count += 1\n",
    "    \n",
    "print(\"Number of even numbers:\", even_count)\n",
    "print(\"Number of odd numbers:\", odd_count)"
   ]
  },
  {
   "cell_type": "markdown",
   "id": "7e05b21d-b7a7-4226-aa4d-4db0a4649e38",
   "metadata": {},
   "source": [
    "Question 5: Write a Python program to find the factorial of a number using a for loop."
   ]
  },
  {
   "cell_type": "code",
   "execution_count": 9,
   "id": "02aa884f-e081-44af-aa6b-ec7a3c7d74be",
   "metadata": {},
   "outputs": [
    {
     "name": "stdin",
     "output_type": "stream",
     "text": [
      "Enter your number: 4\n"
     ]
    },
    {
     "name": "stdout",
     "output_type": "stream",
     "text": [
      "24\n"
     ]
    }
   ],
   "source": [
    "number = int(input(\"Enter your number:\"))\n",
    "factorial = 1\n",
    "\n",
    "for item in range(1,number+1):\n",
    "    factorial *= item\n",
    "    \n",
    "print(factorial)"
   ]
  },
  {
   "cell_type": "markdown",
   "id": "7bbf13c1-5a38-4d07-b91d-34c044f4b102",
   "metadata": {},
   "source": [
    "Question 6: Write a Python program to print the Fibonacci sequence up to a specified number using a for loop."
   ]
  },
  {
   "cell_type": "code",
   "execution_count": 19,
   "id": "ca4f8774-221e-4b2b-9926-4e6d93a223f5",
   "metadata": {},
   "outputs": [
    {
     "name": "stdin",
     "output_type": "stream",
     "text": [
      "Enter your number: 10\n"
     ]
    },
    {
     "name": "stdout",
     "output_type": "stream",
     "text": [
      "0\n",
      "1\n",
      "1\n",
      "2\n",
      "3\n",
      "5\n",
      "8\n",
      "13\n",
      "21\n",
      "34\n"
     ]
    }
   ],
   "source": [
    "user = int(input(\"Enter your number:\"))\n",
    "a, b = 0, 1\n",
    "\n",
    "n = 10\n",
    "\n",
    "for i in range(user):\n",
    "\n",
    "   print(a)\n",
    "\n",
    "   a, b = b, a + b\n",
    "    "
   ]
  },
  {
   "cell_type": "markdown",
   "id": "24eec348-61df-4574-8cf8-061669934575",
   "metadata": {},
   "source": [
    "Question 7: Write a Python program to check if a given number is prime or not using a for loop."
   ]
  },
  {
   "cell_type": "code",
   "execution_count": 21,
   "id": "7fa66732-6510-4458-a2f0-271e92a6dd8a",
   "metadata": {},
   "outputs": [
    {
     "name": "stdin",
     "output_type": "stream",
     "text": [
      "Enter your number 2\n"
     ]
    },
    {
     "name": "stdout",
     "output_type": "stream",
     "text": [
      "2 is a prime number\n"
     ]
    }
   ],
   "source": [
    "num1 = int(input(\"Enter your number\"))\n",
    "if num1>1:\n",
    "    for i in range (2,num1):\n",
    "        if (num1 % i) == 0:\n",
    "            print(num1,\"is not a prime number\")\n",
    "            break\n",
    "    else:\n",
    "        print(num1,\"is a prime number\")\n",
    "else:\n",
    "    print(num1,\" is not a prime number\")"
   ]
  },
  {
   "cell_type": "markdown",
   "id": "06c1aa5a-8715-4586-9b0b-1eef7f0824ac",
   "metadata": {},
   "source": [
    "Question 8: Write a Python program to find the largest element in a list using a for loop."
   ]
  },
  {
   "cell_type": "code",
   "execution_count": 27,
   "id": "39637501-3b15-46e4-8b0e-5fb5f7a42721",
   "metadata": {},
   "outputs": [
    {
     "name": "stdout",
     "output_type": "stream",
     "text": [
      "The largest number is 80\n"
     ]
    }
   ],
   "source": [
    "listA = [20,80,34,60,32]\n",
    "large = listA[0]\n",
    "for num in listA:\n",
    "    if num>large:\n",
    "        large = num\n",
    "print(\"The largest number is\",large)"
   ]
  },
  {
   "cell_type": "markdown",
   "id": "e47b07ce-2c5d-4b42-aebc-5de456d8b062",
   "metadata": {},
   "source": [
    "Question 9: Write a Python program to reverse a given string using a for loop."
   ]
  },
  {
   "cell_type": "code",
   "execution_count": 29,
   "id": "8d6089bd-1992-42cf-812e-1be98da7a25c",
   "metadata": {},
   "outputs": [
    {
     "name": "stdin",
     "output_type": "stream",
     "text": [
      "Enter the string: Hello\n"
     ]
    },
    {
     "name": "stdout",
     "output_type": "stream",
     "text": [
      "olleH\n"
     ]
    }
   ],
   "source": [
    "string = input(\"Enter the string:\")\n",
    "reverse = ''\n",
    "for i in range(len(string), 0, -1):\n",
    "   reverse += string[i-1]\n",
    "print( reverse)\n"
   ]
  },
  {
   "cell_type": "markdown",
   "id": "19e90d66-c8c2-46a4-8b93-2eb910af304b",
   "metadata": {},
   "source": [
    "Question 10: Write a Python program to find the common elements between two lists using a\n",
    "for loop.\n",
    "List1 = [1,2,3]\n",
    "List2 = [4,5,1] # common element is 1"
   ]
  },
  {
   "cell_type": "code",
   "execution_count": 31,
   "id": "07a4aa03-dcef-48cf-badf-f1dd568f65af",
   "metadata": {},
   "outputs": [
    {
     "name": "stdout",
     "output_type": "stream",
     "text": [
      "[1]\n"
     ]
    }
   ],
   "source": [
    "listX = [1,2,3]\n",
    "listY = [4,5,1]\n",
    "common = []\n",
    "for n in listX:\n",
    "    if n in listY:\n",
    "        common.append(n)\n",
    "print(common)"
   ]
  },
  {
   "cell_type": "code",
   "execution_count": null,
   "id": "94ba10a5-6795-4d5b-ac51-e6e9f10cae12",
   "metadata": {},
   "outputs": [],
   "source": []
  }
 ],
 "metadata": {
  "kernelspec": {
   "display_name": "Python 3 (ipykernel)",
   "language": "python",
   "name": "python3"
  },
  "language_info": {
   "codemirror_mode": {
    "name": "ipython",
    "version": 3
   },
   "file_extension": ".py",
   "mimetype": "text/x-python",
   "name": "python",
   "nbconvert_exporter": "python",
   "pygments_lexer": "ipython3",
   "version": "3.12.4"
  }
 },
 "nbformat": 4,
 "nbformat_minor": 5
}
