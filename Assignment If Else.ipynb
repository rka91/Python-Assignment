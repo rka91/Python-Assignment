{
 "cells": [
  {
   "cell_type": "markdown",
   "id": "0862819f-1528-4aff-9772-4e25602f2414",
   "metadata": {},
   "source": [
    "Q1. Write a program to calculate the electricity bill using only if statement? (accept number of unit from user)\n",
    "according to the following criteria:\n",
    "\n",
    "Unit                             Price\n",
    "First 100 units                  no charge\n",
    "Next 100 units                   Rs 5 per unit\n",
    "After 200 units                  Rs 10 per unit\n"
   ]
  },
  {
   "cell_type": "code",
   "execution_count": 9,
   "id": "e15a2995-cd5e-43dd-8cdf-3bbce73dd02d",
   "metadata": {},
   "outputs": [
    {
     "name": "stdin",
     "output_type": "stream",
     "text": [
      "Enter the number of units: 350\n"
     ]
    },
    {
     "name": "stdout",
     "output_type": "stream",
     "text": [
      "bill = 2000\n"
     ]
    }
   ],
   "source": [
    "unit = int(input(\"Enter the number of units:\"))\n",
    "if unit>=0:\n",
    "    if unit <= 100:\n",
    "        print(\"bill =\", 0)\n",
    "    elif unit <= 200:\n",
    "        print(\"bill =\", (unit - 100) * 5)\n",
    "    else:\n",
    "        print(\"bill =\", ((100 * 5) + (unit - 200) * 10))\n",
    "else:\n",
    "    print(\"Invalid Input\")"
   ]
  },
  {
   "cell_type": "markdown",
   "id": "4f611ffe-560b-41bc-b105-3d5841d779ff",
   "metadata": {},
   "source": [
    "Q2. Write a program to accept percentage from the user and display\n",
    "the grade according to the following criteria:\n",
    "\n",
    "Marks                Grade\n",
    "> 90                   A\n",
    "> 80 and <= 90         B\n",
    ">= 60 and <= 80        C\n",
    "below 60               D"
   ]
  },
  {
   "cell_type": "code",
   "execution_count": 3,
   "id": "a55fb138-df39-4eda-abca-dd4d8435ef8e",
   "metadata": {},
   "outputs": [
    {
     "name": "stdin",
     "output_type": "stream",
     "text": [
      "Enter your percentage: 85\n"
     ]
    },
    {
     "name": "stdout",
     "output_type": "stream",
     "text": [
      "B\n"
     ]
    }
   ],
   "source": [
    "percentage = int(input(\"Enter your percentage:\"))\n",
    "\n",
    "if 0< percentage <= 100:\n",
    "    if percentage > 90:\n",
    "        print(\"A\")\n",
    "    elif percentage >= 80 and percentage <= 90:\n",
    "        print(\"B\")\n",
    "    elif percentage >= 60 and percentage <= 80:\n",
    "        print (\"C\")\n",
    "    else:\n",
    "        print(\"D\")\n",
    "else:\n",
    "    print(\"invalid input\")\n"
   ]
  },
  {
   "cell_type": "markdown",
   "id": "55aab2ba-2c3a-4f30-8923-f3e52ce9c441",
   "metadata": {},
   "source": [
    "Q3. Accept the age of 4 people and display the youngest one?"
   ]
  },
  {
   "cell_type": "code",
   "execution_count": 5,
   "id": "caceaa99-501a-4a9c-9262-4874e89b13a2",
   "metadata": {},
   "outputs": [
    {
     "name": "stdin",
     "output_type": "stream",
     "text": [
      "Enter First person's age:  20\n",
      "Enter Second person's age:  45\n",
      "Enter Third person's age:  12\n",
      "Enter Fourth person's age:  50\n"
     ]
    },
    {
     "name": "stdout",
     "output_type": "stream",
     "text": [
      "12\n"
     ]
    }
   ],
   "source": [
    "age1 = int(input(\"Enter First person's age: \"))\n",
    "age2 = int(input(\"Enter Second person's age: \"))\n",
    "age3 = int(input(\"Enter Third person's age: \"))\n",
    "age4 = int(input(\"Enter Fourth person's age: \"))\n",
    "if age1>0 and age2>0 and age3>0 and age4>0:\n",
    "    if age1 <= age2 and age1 <= age3 and age1 <= age4:\n",
    "        print(age1)\n",
    "    elif age2 <= age1 and age2 <= age3 and age2 <= age4:\n",
    "        print(age2)\n",
    "    elif age3 <= age1 and age3 <= age2 and age3 <= age4:\n",
    "        print(age3)\n",
    "    else:\n",
    "        print(age4)\n",
    "else:\n",
    "    print(\"Invalid Input\")"
   ]
  },
  {
   "cell_type": "markdown",
   "id": "1ea3548d-8905-4db7-a6d6-79cd394dc85f",
   "metadata": {},
   "source": [
    "Q4. A company decided to give bonus to employee\n",
    "according to following criteria:\n",
    "\n",
    "Time period of Service        Bonus\n",
    "More than 10 years             10%\n",
    ">=6 and <=10                   8%\n",
    "Less than 6 years              5%\n",
    "    \n",
    "Ask user for their salary and years of service and print the net bonus amount?"
   ]
  },
  {
   "cell_type": "code",
   "execution_count": 7,
   "id": "1f205c00-2a8f-4d16-a49c-d9471b53ff7c",
   "metadata": {},
   "outputs": [
    {
     "name": "stdin",
     "output_type": "stream",
     "text": [
      "Enter your salary : 100000\n",
      "Enter your experience in years: 5\n"
     ]
    },
    {
     "name": "stdout",
     "output_type": "stream",
     "text": [
      "Bonus: 5000.0\n"
     ]
    }
   ],
   "source": [
    "salary = int(input(\"Enter your salary :\"))\n",
    "Experience = int(input (\"Enter your experience in years:\"))\n",
    "if Experience>=0 and salary >= 0:\n",
    "    if Experience < 6:\n",
    "        print(\"Bonus:\", 0.05*salary)\n",
    "    elif 6<=Experience<=10:\n",
    "        print(\"Bonus:\", 0.08*salary)\n",
    "    else:\n",
    "        print(\"Bonus:\", 0.1*salary)\n",
    "else:\n",
    "    print(\"Invalid Input\")\n"
   ]
  },
  {
   "cell_type": "markdown",
   "id": "adbeab3a-a1cb-4262-8fe2-bcaeba61db0d",
   "metadata": {},
   "source": [
    "Q5. Accept three numbers from the user and display the second largest number?"
   ]
  },
  {
   "cell_type": "code",
   "execution_count": 11,
   "id": "85cdb3ab-4183-4cf1-9474-fe6fe2c79330",
   "metadata": {},
   "outputs": [
    {
     "name": "stdin",
     "output_type": "stream",
     "text": [
      "Enter First Number: 12\n",
      "Enter Second Number: 34\n",
      "Enter Third Number: 23\n"
     ]
    },
    {
     "name": "stdout",
     "output_type": "stream",
     "text": [
      "23\n"
     ]
    }
   ],
   "source": [
    "N1 = int(input(\"Enter First Number:\"))\n",
    "N2 = int(input(\"Enter Second Number:\"))\n",
    "N3 = int(input(\"Enter Third Number:\"))\n",
    "\n",
    "if N2<=N1<=N3 or N3<=N1<=N2:\n",
    "    print(N1)\n",
    "elif N1<=N2<=N3 or N3<=N2<=N1:\n",
    "    print(N2)\n",
    "else:\n",
    "    print(N3)"
   ]
  },
  {
   "cell_type": "markdown",
   "id": "a5fe6a87-0f81-43f1-8b05-2146d15a182e",
   "metadata": {},
   "source": [
    "Q6. Accept the marked price from the user and calculate the Net amount as (Marked Price – Discount) to pay according to following criteria:\n",
    "\n",
    "Marked Price           Discount\n",
    ">10000                   20%\n",
    ">7000 and <=10000        15%\n",
    "<=7000                   10%"
   ]
  },
  {
   "cell_type": "code",
   "execution_count": 17,
   "id": "fe2a3db0-ecd8-4dd6-95dc-e314501c7863",
   "metadata": {},
   "outputs": [
    {
     "name": "stdin",
     "output_type": "stream",
     "text": [
      "Enter Marked Price: 5000\n"
     ]
    },
    {
     "name": "stdout",
     "output_type": "stream",
     "text": [
      "Net Amount = 4500.0\n"
     ]
    }
   ],
   "source": [
    "marked_price = int(input(\"Enter Marked Price:\"))\n",
    "if marked_price>=0:\n",
    "    if marked_price<=7000:\n",
    "        print(\"Net Amount =\", marked_price - (0.10*marked_price))\n",
    "    elif 7000< marked_price <=10000:\n",
    "        print(\"Net Amount =\", marked_price - (0.15*marked_price))\n",
    "    else:\n",
    "        print(\"Net Amount =\", marked_price - (0.20*marked_price))\n",
    "else:\n",
    "    print(\"Invalid Input\")"
   ]
  },
  {
   "cell_type": "markdown",
   "id": "59e8e3f2-995f-4820-a7db-942480bfcdb4",
   "metadata": {},
   "source": [
    "Q7. Accept the marks of English, Math and Science,\n",
    "Social Studies Subject and display the stream allotted\n",
    "according to following:\n",
    "\n",
    "All Subjects more than 80 marks          — Science Stream\n",
    "\n",
    "English >80 and Math, Science above 50   — Commerce Stream\n",
    "\n",
    "English > 80 and social studies > 80     — Humanities"
   ]
  },
  {
   "cell_type": "code",
   "execution_count": 19,
   "id": "2ea1861f-be3f-45d6-897a-556dad34ff1c",
   "metadata": {},
   "outputs": [
    {
     "name": "stdin",
     "output_type": "stream",
     "text": [
      "Enter your english marks: 85\n",
      "Enter your Math and Science marks: 75\n",
      "Enter your social studies marks: 55\n"
     ]
    },
    {
     "name": "stdout",
     "output_type": "stream",
     "text": [
      "Commerce Stream\n"
     ]
    }
   ],
   "source": [
    "Eng_marks = int(input(\"Enter your english marks:\"))\n",
    "MathandScience_marks = int(input(\"Enter your Math and Science marks:\"))\n",
    "SST_marks = int(input(\"Enter your social studies marks:\"))\n",
    "\n",
    "if 0<= Eng_marks <= 100 and 0<= MathandScience_marks<=100 and 0<= SST_marks<=100:              \n",
    "    if Eng_marks>80 and MathandScience_marks>80 and SST_marks >80:\n",
    "        print(\"Science Stream\")\n",
    "    elif Eng_marks>80 and MathandScience_marks > 50:\n",
    "        print(\"Commerce Stream\")\n",
    "    elif Eng_marks>80 and SST_marks > 80:\n",
    "        print(\"Humanities\")\n",
    "    else:\n",
    "        print(\"No stream\")\n",
    "else:\n",
    "    print (\"Invalid Input\")\n",
    "    "
   ]
  },
  {
   "cell_type": "markdown",
   "id": "71a35633-5401-47e0-96e8-b315a31eef20",
   "metadata": {},
   "source": [
    "Q8. Write a program to display \"Hello\" if a number entered by user is a multiple of five, otherwise print \"Bye\"?"
   ]
  },
  {
   "cell_type": "code",
   "execution_count": 29,
   "id": "6bc31c5a-7f35-498c-a7bf-6b36d60c5b78",
   "metadata": {},
   "outputs": [
    {
     "name": "stdin",
     "output_type": "stream",
     "text": [
      "enter number: 20\n"
     ]
    },
    {
     "name": "stdout",
     "output_type": "stream",
     "text": [
      "Hello\n"
     ]
    }
   ],
   "source": [
    "field = int(input(\"enter number:\"))\n",
    "if field %5 == 0:\n",
    "    print(\"Hello\")\n",
    "else:\n",
    "    print(\"Bye\")"
   ]
  },
  {
   "cell_type": "markdown",
   "id": "9f69e7f9-ce17-43d8-88b1-82290bb2224b",
   "metadata": {},
   "source": [
    "Q9. Write a program to check whether the last digit of a number (entered by user) is divisible by 3 or not?"
   ]
  },
  {
   "cell_type": "code",
   "execution_count": 31,
   "id": "f833db75-afea-43cb-9fe7-c2a3fa0b71b8",
   "metadata": {},
   "outputs": [
    {
     "name": "stdin",
     "output_type": "stream",
     "text": [
      "enter number: 236\n"
     ]
    },
    {
     "name": "stdout",
     "output_type": "stream",
     "text": [
      "yes, last digit divisible by 3\n"
     ]
    }
   ],
   "source": [
    "Numbers = int(input(\"enter number:\"))\n",
    "last_digit = Numbers %10\n",
    "\n",
    "if last_digit % 3 == 0:\n",
    "    print(\"yes, last digit divisible by 3\")\n",
    "else:\n",
    "    print(\"Not dvisible be 3\")"
   ]
  },
  {
   "cell_type": "markdown",
   "id": "59279128-7c65-46d5-9b7f-da1a49aeadd0",
   "metadata": {},
   "source": [
    "Q10. Write a program to check whether a number entered is three-digit number or not?"
   ]
  },
  {
   "cell_type": "code",
   "execution_count": 35,
   "id": "1a2a4a81-1eee-48a9-aeec-4a64dc8b8da2",
   "metadata": {},
   "outputs": [
    {
     "name": "stdin",
     "output_type": "stream",
     "text": [
      "Enter number: 321\n"
     ]
    },
    {
     "name": "stdout",
     "output_type": "stream",
     "text": [
      "Yes, it's a three-digit number\n"
     ]
    }
   ],
   "source": [
    "num = int(input(\"Enter number:\"))\n",
    "i = len(str(num))\n",
    "if i == 3:\n",
    "    print (\"Yes, it's a three-digit number\")\n",
    "else:\n",
    "    print(\"Not a three-digit number\")"
   ]
  }
 ],
 "metadata": {
  "kernelspec": {
   "display_name": "Python 3 (ipykernel)",
   "language": "python",
   "name": "python3"
  },
  "language_info": {
   "codemirror_mode": {
    "name": "ipython",
    "version": 3
   },
   "file_extension": ".py",
   "mimetype": "text/x-python",
   "name": "python",
   "nbconvert_exporter": "python",
   "pygments_lexer": "ipython3",
   "version": "3.12.4"
  }
 },
 "nbformat": 4,
 "nbformat_minor": 5
}
