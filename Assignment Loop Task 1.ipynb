{
 "cells": [
  {
   "cell_type": "markdown",
   "id": "113b8bf3-d435-421a-bcbe-a870a2262874",
   "metadata": {},
   "source": [
    "QUESTION\n",
    "You have a nested list as below:\n",
    "indian_employees = [[\"Raj\", \"Patel\"], [\"Priya\", \"Sharma\"],[\"Amit\", \"Kumar\"],[\"Neha\", \"Singh\"]]\n",
    "your have to create an email address for each employee.\n",
    "Email address should be there firstname+lastname@gmail.com\n",
    "\n",
    "Expected output:\n",
    "RajPatel@gmail.com\n",
    "PriyaSharma@gmail.com\n",
    "You have to create email addresses for each employee."
   ]
  },
  {
   "cell_type": "code",
   "execution_count": 3,
   "id": "d48fa2fd-d30e-4e17-afae-c38a73190085",
   "metadata": {},
   "outputs": [
    {
     "name": "stdout",
     "output_type": "stream",
     "text": [
      "RajPatel@gmail.com\n",
      "PriyaSharma@gmail.com\n",
      "AmitKumar@gmail.com\n",
      "NehaSingh@gmail.com\n"
     ]
    }
   ],
   "source": [
    "indian_employees = [[\"Raj\", \"Patel\"], [\"Priya\", \"Sharma\"],[\"Amit\", \"Kumar\"],[\"Neha\", \"Singh\"]]\n",
    "for email in indian_employees:\n",
    "        print(f\"{\"\".join(email)}@gmail.com\")"
   ]
  },
  {
   "cell_type": "code",
   "execution_count": 6,
   "id": "dcae5b39-956f-471e-801c-1a2966620ffb",
   "metadata": {},
   "outputs": [
    {
     "name": "stdout",
     "output_type": "stream",
     "text": [
      "RajPatel@gmail.com\n",
      "PriyaSharma@gmail.com\n",
      "AmitKumar@gmail.com\n",
      "NehaSingh@gmail.com\n"
     ]
    }
   ],
   "source": [
    "for email in indian_employees:\n",
    "        print(f\"{email[0]}{email[1]}@gmail.com\")"
   ]
  },
  {
   "cell_type": "code",
   "execution_count": null,
   "id": "66a2060a-93f5-43f2-828c-62e2943ff850",
   "metadata": {},
   "outputs": [],
   "source": []
  }
 ],
 "metadata": {
  "kernelspec": {
   "display_name": "Python 3 (ipykernel)",
   "language": "python",
   "name": "python3"
  },
  "language_info": {
   "codemirror_mode": {
    "name": "ipython",
    "version": 3
   },
   "file_extension": ".py",
   "mimetype": "text/x-python",
   "name": "python",
   "nbconvert_exporter": "python",
   "pygments_lexer": "ipython3",
   "version": "3.12.4"
  }
 },
 "nbformat": 4,
 "nbformat_minor": 5
}
